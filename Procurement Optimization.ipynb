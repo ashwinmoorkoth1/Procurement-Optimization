{
 "cells": [
  {
   "cell_type": "markdown",
   "metadata": {},
   "source": [
    "## Procurement Optimization - Mixed-integer linear programming / Discrete optimization\n",
    "\n",
    "Using the dataset from MITx Supply Chain Micro Masters [this](https://courses.edx.org/dashboard/programs/2fc3236d-78a9-45a1-8c0c-fc290e74259e/).\n",
    "The modelling here is done in excel using OpenSOver [this](https://opensolver.org/)\n",
    "\n",
    "Objective : The objective of the optimization is to find allocate volumes to different freight suppliers to **optimize the overall costs** associated taking into consideration capacity, lead time for the service and minimum business for each suppliers.\n",
    "\n",
    "Data\n",
    "There are 4 datasets used in the optimization\n",
    "\n",
    "- The rates for each lane (fore each supplier)\n",
    "- The LT for each lane for each suppliers\n",
    "- The company budgeted volumes for each lane\n",
    "- Capacity for each supplier in each lane (This information is used to draw different scenarios in the analysis)\n",
    "\n",
    "The questions to answer here are to draw different baseline numbers for optimal decision making:\n",
    "- **1. What is the cost associated with not going for a tender and all earlier price remain the same**\n",
    "- **2. What is the most minimum cost that we can achieve by taking the lowest cost supplier**\n",
    "- **3. Cost of lead time inefficiencies**\n",
    "- **4. Since we know some of the supplier are very strong in certain areas we only give the lanes to them what is the costs once this is done (This is done by making the capacity of other suppliers 0)**\n",
    "- **5. We need to provide certain suppliers with a certain amount of business so that they come back for the bids next time and the prices stay competitive - so here we put in minimum value constraint for each supplier**"
   ]
  },
  {
   "cell_type": "markdown",
   "metadata": {},
   "source": [
    "### The optimization is done in Excel using the add-in OpenSover (Python based) I have kept the decision varaible count low so that it can be solved using native Excel solver."
   ]
  },
  {
   "cell_type": "markdown",
   "metadata": {},
   "source": [
    "#### In this markdown I will show how to operate the model and provide and Idea on how this problem can be solved."
   ]
  },
  {
   "cell_type": "markdown",
   "metadata": {},
   "source": [
    "## Step 1 : How to formulate the optimization problem"
   ]
  },
  {
   "cell_type": "markdown",
   "metadata": {},
   "source": [
    "### Objective Function : Sum of (Product of the volumes * Rates associated)  -- Minimize\n",
    "\n",
    "![](1ObjectiveFunction.PNG)\n"
   ]
  },
  {
   "cell_type": "markdown",
   "metadata": {},
   "source": [
    "### Decision Variables : The volume that should be distributed for each of the suppliers (in blue). These are the values that needs to be found. This subject to the Budget volume for each lane that the company has forecasted"
   ]
  },
  {
   "cell_type": "markdown",
   "metadata": {},
   "source": [
    "![](2DecisionVaraiblesandBudget.PNG)"
   ]
  },
  {
   "cell_type": "markdown",
   "metadata": {},
   "source": [
    "### Variable : The rates variable is used to multiply with the decision variable to obtain the objective funtion"
   ]
  },
  {
   "cell_type": "markdown",
   "metadata": {},
   "source": [
    "![](5BidRates.PNG)"
   ]
  },
  {
   "cell_type": "markdown",
   "metadata": {},
   "source": [
    "### Constraint 1 : Capacity - The volume allocated to each supplier (decision variable) should be less than its capacity for the lane"
   ]
  },
  {
   "cell_type": "markdown",
   "metadata": {},
   "source": [
    "![](7Capacity.PNG)"
   ]
  },
  {
   "cell_type": "markdown",
   "metadata": {},
   "source": [
    "### Constraint 2 : LeadTime - The lead time variable is factored into the Rates variable by a factor "
   ]
  },
  {
   "cell_type": "markdown",
   "metadata": {},
   "source": [
    "![](4LeadTimetoDollars.PNG)"
   ]
  },
  {
   "cell_type": "markdown",
   "metadata": {},
   "source": [
    "![](8LeadTime.PNG)"
   ]
  },
  {
   "cell_type": "markdown",
   "metadata": {},
   "source": [
    "### By applying each additional day in leadtime from the minimum lead time by a penalty of 20 dollars we arrive at an effective rates dataset to be used in the objective function"
   ]
  },
  {
   "cell_type": "markdown",
   "metadata": {},
   "source": [
    "![](6EffectiveRates.PNG)"
   ]
  },
  {
   "cell_type": "markdown",
   "metadata": {},
   "source": [
    "### Constraint 3 : Minimum Business - Here we factor a minimum value of business that one has to provide for each of the suppliers."
   ]
  },
  {
   "cell_type": "markdown",
   "metadata": {},
   "source": [
    "![](3MinimumBusiness.PNG)"
   ]
  },
  {
   "cell_type": "markdown",
   "metadata": {},
   "source": [
    "_____"
   ]
  },
  {
   "cell_type": "markdown",
   "metadata": {},
   "source": [
    "### Now we run each of the scenarios mentioned at the beginning to get more clarity into the costs and savings we can achieve (since Scenario 1 is old costs we will ignore it now)\n",
    "\n",
    "#### Note: Actual Value is the actual cost not factoring lead time penalty\n",
    "#### Total Value is factoring lead time penalty"
   ]
  },
  {
   "cell_type": "markdown",
   "metadata": {},
   "source": [
    "## Scenario 2\n",
    "\n",
    "Lowest Cost\n",
    "\n",
    "1. Leadtime conversion to dollars is 0\n",
    "2. All values in minimum business is 0\n",
    "3. All suppliers have maximum capacity\n",
    "\n",
    "Note: Here since Leadtime penaly is 0 both actual and total value remain the same"
   ]
  },
  {
   "cell_type": "markdown",
   "metadata": {},
   "source": [
    "![](9LowestCost.PNG)"
   ]
  },
  {
   "cell_type": "markdown",
   "metadata": {},
   "source": [
    "## Scenario 3\n",
    "\n",
    "Lead Time Factoring\n",
    "\n",
    "1. Leadtime conversion to dollars is 20\n",
    "2. All values in minimum business is 0\n",
    "3. All suppliers have maximum capacity"
   ]
  },
  {
   "cell_type": "markdown",
   "metadata": {},
   "source": [
    "![](9LeadTimeFactored.PNG)"
   ]
  },
  {
   "cell_type": "markdown",
   "metadata": {},
   "source": [
    "## Scenario 4\n",
    "\n",
    "Supplier Service levels\n",
    "\n",
    "1. Leadtime conversion to dollars is 20\n",
    "2. All values in minimum business is 0\n",
    "3. Here we change the capacity of some suppliers since we know that other suppliers have better capabilities in the region\n",
    "\n",
    "We will give Origin 11, 14, 12 to supplier JFH and make capacity for others from this origin to 0"
   ]
  },
  {
   "cell_type": "markdown",
   "metadata": {},
   "source": [
    "![](11SupplierService.PNG)"
   ]
  },
  {
   "cell_type": "markdown",
   "metadata": {},
   "source": [
    "## Scenario 5\n",
    "\n",
    "Minimum Business\n",
    "\n",
    "1. Leadtime conversion to dollars is 20\n",
    "2. Minimum business for each supplier is changed\n",
    "3. Here we change the capacity of some suppliers since we know that other suppliers have better capabilities in the region\n",
    "\n",
    "We will give Origin 11, 14, 12 to supplier JFH and make capacity for others from this origin to 0"
   ]
  },
  {
   "cell_type": "markdown",
   "metadata": {},
   "source": [
    "![](12MinimumBusiness.PNG)"
   ]
  },
  {
   "cell_type": "markdown",
   "metadata": {},
   "source": [
    "# Now we have different scenarios recorded in the procurement process\n",
    "\n",
    "### What this brings is a step by step clarity in the whole process and the costs involved\n",
    "### This brings a transperency into the whole process\n"
   ]
  },
  {
   "cell_type": "code",
   "execution_count": null,
   "metadata": {},
   "outputs": [],
   "source": []
  }
 ],
 "metadata": {
  "kernelspec": {
   "display_name": "Python 3",
   "language": "python",
   "name": "python3"
  },
  "language_info": {
   "codemirror_mode": {
    "name": "ipython",
    "version": 3
   },
   "file_extension": ".py",
   "mimetype": "text/x-python",
   "name": "python",
   "nbconvert_exporter": "python",
   "pygments_lexer": "ipython3",
   "version": "3.7.4"
  },
  "varInspector": {
   "cols": {
    "lenName": 16,
    "lenType": 16,
    "lenVar": 40
   },
   "kernels_config": {
    "python": {
     "delete_cmd_postfix": "",
     "delete_cmd_prefix": "del ",
     "library": "var_list.py",
     "varRefreshCmd": "print(var_dic_list())"
    },
    "r": {
     "delete_cmd_postfix": ") ",
     "delete_cmd_prefix": "rm(",
     "library": "var_list.r",
     "varRefreshCmd": "cat(var_dic_list()) "
    }
   },
   "types_to_exclude": [
    "module",
    "function",
    "builtin_function_or_method",
    "instance",
    "_Feature"
   ],
   "window_display": false
  }
 },
 "nbformat": 4,
 "nbformat_minor": 2
}
